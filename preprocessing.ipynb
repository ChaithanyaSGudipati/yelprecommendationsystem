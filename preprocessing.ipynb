{
  "nbformat": 4,
  "nbformat_minor": 0,
  "metadata": {
    "colab": {
      "provenance": []
    },
    "kernelspec": {
      "name": "python3",
      "display_name": "Python 3"
    },
    "language_info": {
      "name": "python"
    }
  },
  "cells": [
    {
      "cell_type": "code",
      "source": [
        "# Mounting the drive\n",
        "from google.colab import drive\n",
        "drive.mount('/content/gdrive')"
      ],
      "metadata": {
        "colab": {
          "base_uri": "https://localhost:8080/"
        },
        "id": "N6b-SKELVZpn",
        "outputId": "af345478-8848-4798-e167-8fd7a83b5bb1"
      },
      "execution_count": null,
      "outputs": [
        {
          "output_type": "stream",
          "name": "stdout",
          "text": [
            "Mounted at /content/gdrive\n"
          ]
        }
      ]
    },
    {
      "cell_type": "code",
      "execution_count": null,
      "metadata": {
        "id": "9KPRPbc2VQqZ"
      },
      "outputs": [],
      "source": [
        "# Used to ignore the warning given as output of the code\n",
        "import warnings\n",
        "warnings.filterwarnings('ignore')\n",
        "\n",
        "# Basic libraries of python for computations\n",
        "import numpy as np, pandas as pd\n",
        "\n",
        "# Python libraries for data visualization\n",
        "import matplotlib.pyplot as plt\n",
        "import seaborn as sns\n",
        "\n",
        "# A dictionary output that does not raise a key error\n",
        "from collections import defaultdict\n",
        "\n",
        "# A performance metrics in sklearn\n",
        "from sklearn.metrics import mean_squared_error"
      ]
    },
    {
      "cell_type": "code",
      "source": [
        "yelp_df=pd.read_csv('gdrive/MyDrive/yelp.csv')\n",
        "yelp_df.head()"
      ],
      "metadata": {
        "colab": {
          "base_uri": "https://localhost:8080/",
          "height": 354
        },
        "id": "FQGPKrUSWdrd",
        "outputId": "faf99fca-275b-4b4b-8923-89aba33d8661"
      },
      "execution_count": null,
      "outputs": [
        {
          "output_type": "execute_result",
          "data": {
            "text/plain": [
              "              business_id        date               review_id  stars  \\\n",
              "0  9yKzy9PApeiPPOUJEtnvkg  2011-01-26  fWKvX83p0-ka4JS3dc6E5A      5   \n",
              "1  ZRJwVLyzEJq1VAihDhYiow  2011-07-27  IjZ33sJrzXqU-0X6U8NwyA      5   \n",
              "2  6oRAC4uyJCsJl1X0WZpVSA  2012-06-14  IESLBzqUCLdSzSqm0eCSxQ      4   \n",
              "3  _1QQZuf4zZOyFCvXc0o6Vg  2010-05-27  G-WvGaISbqqaMHlNnByodA      5   \n",
              "4  6ozycU1RpktNG2-1BroVtw  2012-01-05  1uJFq2r5QfJG_6ExMRCaGw      5   \n",
              "\n",
              "                                                text    type  \\\n",
              "0  My wife took me here on my birthday for breakf...  review   \n",
              "1  I have no idea why some people give bad review...  review   \n",
              "2  love the gyro plate. Rice is so good and I als...  review   \n",
              "3  Rosie, Dakota, and I LOVE Chaparral Dog Park!!...  review   \n",
              "4  General Manager Scott Petello is a good egg!!!...  review   \n",
              "\n",
              "                  user_id  cool  useful  funny  \n",
              "0  rLtl8ZkDX5vH5nAx9C3q5Q     2       5      0  \n",
              "1  0a2KyEL0d3Yb1V6aivbIuQ     0       0      0  \n",
              "2  0hT2KtfLiobPvh6cDC8JQg     0       1      0  \n",
              "3  uZetl9T0NcROGOyFfughhg     1       2      0  \n",
              "4  vYmM4KTsC8ZfQBg-j5MWkw     0       0      0  "
            ],
            "text/html": [
              "\n",
              "  <div id=\"df-9c04570c-a04b-49b4-a009-6d64b9ae9b7c\">\n",
              "    <div class=\"colab-df-container\">\n",
              "      <div>\n",
              "<style scoped>\n",
              "    .dataframe tbody tr th:only-of-type {\n",
              "        vertical-align: middle;\n",
              "    }\n",
              "\n",
              "    .dataframe tbody tr th {\n",
              "        vertical-align: top;\n",
              "    }\n",
              "\n",
              "    .dataframe thead th {\n",
              "        text-align: right;\n",
              "    }\n",
              "</style>\n",
              "<table border=\"1\" class=\"dataframe\">\n",
              "  <thead>\n",
              "    <tr style=\"text-align: right;\">\n",
              "      <th></th>\n",
              "      <th>business_id</th>\n",
              "      <th>date</th>\n",
              "      <th>review_id</th>\n",
              "      <th>stars</th>\n",
              "      <th>text</th>\n",
              "      <th>type</th>\n",
              "      <th>user_id</th>\n",
              "      <th>cool</th>\n",
              "      <th>useful</th>\n",
              "      <th>funny</th>\n",
              "    </tr>\n",
              "  </thead>\n",
              "  <tbody>\n",
              "    <tr>\n",
              "      <th>0</th>\n",
              "      <td>9yKzy9PApeiPPOUJEtnvkg</td>\n",
              "      <td>2011-01-26</td>\n",
              "      <td>fWKvX83p0-ka4JS3dc6E5A</td>\n",
              "      <td>5</td>\n",
              "      <td>My wife took me here on my birthday for breakf...</td>\n",
              "      <td>review</td>\n",
              "      <td>rLtl8ZkDX5vH5nAx9C3q5Q</td>\n",
              "      <td>2</td>\n",
              "      <td>5</td>\n",
              "      <td>0</td>\n",
              "    </tr>\n",
              "    <tr>\n",
              "      <th>1</th>\n",
              "      <td>ZRJwVLyzEJq1VAihDhYiow</td>\n",
              "      <td>2011-07-27</td>\n",
              "      <td>IjZ33sJrzXqU-0X6U8NwyA</td>\n",
              "      <td>5</td>\n",
              "      <td>I have no idea why some people give bad review...</td>\n",
              "      <td>review</td>\n",
              "      <td>0a2KyEL0d3Yb1V6aivbIuQ</td>\n",
              "      <td>0</td>\n",
              "      <td>0</td>\n",
              "      <td>0</td>\n",
              "    </tr>\n",
              "    <tr>\n",
              "      <th>2</th>\n",
              "      <td>6oRAC4uyJCsJl1X0WZpVSA</td>\n",
              "      <td>2012-06-14</td>\n",
              "      <td>IESLBzqUCLdSzSqm0eCSxQ</td>\n",
              "      <td>4</td>\n",
              "      <td>love the gyro plate. Rice is so good and I als...</td>\n",
              "      <td>review</td>\n",
              "      <td>0hT2KtfLiobPvh6cDC8JQg</td>\n",
              "      <td>0</td>\n",
              "      <td>1</td>\n",
              "      <td>0</td>\n",
              "    </tr>\n",
              "    <tr>\n",
              "      <th>3</th>\n",
              "      <td>_1QQZuf4zZOyFCvXc0o6Vg</td>\n",
              "      <td>2010-05-27</td>\n",
              "      <td>G-WvGaISbqqaMHlNnByodA</td>\n",
              "      <td>5</td>\n",
              "      <td>Rosie, Dakota, and I LOVE Chaparral Dog Park!!...</td>\n",
              "      <td>review</td>\n",
              "      <td>uZetl9T0NcROGOyFfughhg</td>\n",
              "      <td>1</td>\n",
              "      <td>2</td>\n",
              "      <td>0</td>\n",
              "    </tr>\n",
              "    <tr>\n",
              "      <th>4</th>\n",
              "      <td>6ozycU1RpktNG2-1BroVtw</td>\n",
              "      <td>2012-01-05</td>\n",
              "      <td>1uJFq2r5QfJG_6ExMRCaGw</td>\n",
              "      <td>5</td>\n",
              "      <td>General Manager Scott Petello is a good egg!!!...</td>\n",
              "      <td>review</td>\n",
              "      <td>vYmM4KTsC8ZfQBg-j5MWkw</td>\n",
              "      <td>0</td>\n",
              "      <td>0</td>\n",
              "      <td>0</td>\n",
              "    </tr>\n",
              "  </tbody>\n",
              "</table>\n",
              "</div>\n",
              "      <button class=\"colab-df-convert\" onclick=\"convertToInteractive('df-9c04570c-a04b-49b4-a009-6d64b9ae9b7c')\"\n",
              "              title=\"Convert this dataframe to an interactive table.\"\n",
              "              style=\"display:none;\">\n",
              "        \n",
              "  <svg xmlns=\"http://www.w3.org/2000/svg\" height=\"24px\"viewBox=\"0 0 24 24\"\n",
              "       width=\"24px\">\n",
              "    <path d=\"M0 0h24v24H0V0z\" fill=\"none\"/>\n",
              "    <path d=\"M18.56 5.44l.94 2.06.94-2.06 2.06-.94-2.06-.94-.94-2.06-.94 2.06-2.06.94zm-11 1L8.5 8.5l.94-2.06 2.06-.94-2.06-.94L8.5 2.5l-.94 2.06-2.06.94zm10 10l.94 2.06.94-2.06 2.06-.94-2.06-.94-.94-2.06-.94 2.06-2.06.94z\"/><path d=\"M17.41 7.96l-1.37-1.37c-.4-.4-.92-.59-1.43-.59-.52 0-1.04.2-1.43.59L10.3 9.45l-7.72 7.72c-.78.78-.78 2.05 0 2.83L4 21.41c.39.39.9.59 1.41.59.51 0 1.02-.2 1.41-.59l7.78-7.78 2.81-2.81c.8-.78.8-2.07 0-2.86zM5.41 20L4 18.59l7.72-7.72 1.47 1.35L5.41 20z\"/>\n",
              "  </svg>\n",
              "      </button>\n",
              "      \n",
              "  <style>\n",
              "    .colab-df-container {\n",
              "      display:flex;\n",
              "      flex-wrap:wrap;\n",
              "      gap: 12px;\n",
              "    }\n",
              "\n",
              "    .colab-df-convert {\n",
              "      background-color: #E8F0FE;\n",
              "      border: none;\n",
              "      border-radius: 50%;\n",
              "      cursor: pointer;\n",
              "      display: none;\n",
              "      fill: #1967D2;\n",
              "      height: 32px;\n",
              "      padding: 0 0 0 0;\n",
              "      width: 32px;\n",
              "    }\n",
              "\n",
              "    .colab-df-convert:hover {\n",
              "      background-color: #E2EBFA;\n",
              "      box-shadow: 0px 1px 2px rgba(60, 64, 67, 0.3), 0px 1px 3px 1px rgba(60, 64, 67, 0.15);\n",
              "      fill: #174EA6;\n",
              "    }\n",
              "\n",
              "    [theme=dark] .colab-df-convert {\n",
              "      background-color: #3B4455;\n",
              "      fill: #D2E3FC;\n",
              "    }\n",
              "\n",
              "    [theme=dark] .colab-df-convert:hover {\n",
              "      background-color: #434B5C;\n",
              "      box-shadow: 0px 1px 3px 1px rgba(0, 0, 0, 0.15);\n",
              "      filter: drop-shadow(0px 1px 2px rgba(0, 0, 0, 0.3));\n",
              "      fill: #FFFFFF;\n",
              "    }\n",
              "  </style>\n",
              "\n",
              "      <script>\n",
              "        const buttonEl =\n",
              "          document.querySelector('#df-9c04570c-a04b-49b4-a009-6d64b9ae9b7c button.colab-df-convert');\n",
              "        buttonEl.style.display =\n",
              "          google.colab.kernel.accessAllowed ? 'block' : 'none';\n",
              "\n",
              "        async function convertToInteractive(key) {\n",
              "          const element = document.querySelector('#df-9c04570c-a04b-49b4-a009-6d64b9ae9b7c');\n",
              "          const dataTable =\n",
              "            await google.colab.kernel.invokeFunction('convertToInteractive',\n",
              "                                                     [key], {});\n",
              "          if (!dataTable) return;\n",
              "\n",
              "          const docLinkHtml = 'Like what you see? Visit the ' +\n",
              "            '<a target=\"_blank\" href=https://colab.research.google.com/notebooks/data_table.ipynb>data table notebook</a>'\n",
              "            + ' to learn more about interactive tables.';\n",
              "          element.innerHTML = '';\n",
              "          dataTable['output_type'] = 'display_data';\n",
              "          await google.colab.output.renderOutput(dataTable, element);\n",
              "          const docLink = document.createElement('div');\n",
              "          docLink.innerHTML = docLinkHtml;\n",
              "          element.appendChild(docLink);\n",
              "        }\n",
              "      </script>\n",
              "    </div>\n",
              "  </div>\n",
              "  "
            ]
          },
          "metadata": {},
          "execution_count": 5
        }
      ]
    },
    {
      "cell_type": "code",
      "source": [
        "yelp_df.columns"
      ],
      "metadata": {
        "colab": {
          "base_uri": "https://localhost:8080/"
        },
        "id": "Vesh56yEY16o",
        "outputId": "72206b52-af10-4143-d05b-3df0e10710fa"
      },
      "execution_count": null,
      "outputs": [
        {
          "output_type": "execute_result",
          "data": {
            "text/plain": [
              "Index(['business_id', 'date', 'review_id', 'stars', 'text', 'type', 'user_id',\n",
              "       'cool', 'useful', 'funny'],\n",
              "      dtype='object')"
            ]
          },
          "metadata": {},
          "execution_count": 6
        }
      ]
    },
    {
      "cell_type": "code",
      "source": [
        "yelp_df.info()"
      ],
      "metadata": {
        "colab": {
          "base_uri": "https://localhost:8080/"
        },
        "id": "Ofzny07sUTCN",
        "outputId": "34fc839c-a11e-4a3e-9086-13cbc7edbba9"
      },
      "execution_count": null,
      "outputs": [
        {
          "output_type": "stream",
          "name": "stdout",
          "text": [
            "<class 'pandas.core.frame.DataFrame'>\n",
            "RangeIndex: 10000 entries, 0 to 9999\n",
            "Data columns (total 10 columns):\n",
            " #   Column       Non-Null Count  Dtype \n",
            "---  ------       --------------  ----- \n",
            " 0   business_id  10000 non-null  object\n",
            " 1   date         10000 non-null  object\n",
            " 2   review_id    10000 non-null  object\n",
            " 3   stars        10000 non-null  int64 \n",
            " 4   text         10000 non-null  object\n",
            " 5   type         10000 non-null  object\n",
            " 6   user_id      10000 non-null  object\n",
            " 7   cool         10000 non-null  int64 \n",
            " 8   useful       10000 non-null  int64 \n",
            " 9   funny        10000 non-null  int64 \n",
            "dtypes: int64(4), object(6)\n",
            "memory usage: 781.4+ KB\n"
          ]
        }
      ]
    },
    {
      "cell_type": "markdown",
      "source": [
        "## **Exploratory Data Analysis**"
      ],
      "metadata": {
        "id": "0Fj4GnRnUlqR"
      }
    },
    {
      "cell_type": "code",
      "source": [
        "yelp_df['stars']=yelp_df['stars'].astype('object')\n",
        "yelp_df.info()"
      ],
      "metadata": {
        "colab": {
          "base_uri": "https://localhost:8080/"
        },
        "id": "oBU5WnLBUyNf",
        "outputId": "954fced4-0948-40b4-8ec3-6e86df597b46"
      },
      "execution_count": null,
      "outputs": [
        {
          "output_type": "stream",
          "name": "stdout",
          "text": [
            "<class 'pandas.core.frame.DataFrame'>\n",
            "RangeIndex: 10000 entries, 0 to 9999\n",
            "Data columns (total 10 columns):\n",
            " #   Column       Non-Null Count  Dtype \n",
            "---  ------       --------------  ----- \n",
            " 0   business_id  10000 non-null  object\n",
            " 1   date         10000 non-null  object\n",
            " 2   review_id    10000 non-null  object\n",
            " 3   stars        10000 non-null  object\n",
            " 4   text         10000 non-null  object\n",
            " 5   type         10000 non-null  object\n",
            " 6   user_id      10000 non-null  object\n",
            " 7   cool         10000 non-null  int64 \n",
            " 8   useful       10000 non-null  int64 \n",
            " 9   funny        10000 non-null  int64 \n",
            "dtypes: int64(3), object(7)\n",
            "memory usage: 781.4+ KB\n"
          ]
        }
      ]
    },
    {
      "cell_type": "markdown",
      "source": [
        "## **Distribution of Ratings?**"
      ],
      "metadata": {
        "id": "FXJ1vUafVciZ"
      }
    },
    {
      "cell_type": "code",
      "source": [
        "# Countplot to show the distribution of ratings\n",
        "plt.figure(figsize = (12, 5))\n",
        "ax = sns.countplot(x = \"stars\", data = yelp_df)\n",
        "plt.tick_params(labelsize = 10)\n",
        "plt.title(\"Ratings Distribution \", fontsize = 10)\n",
        "plt.xlabel(\"Ratings\", fontsize = 10)\n",
        "plt.ylabel(\"#Ratings\", fontsize = 10)\n",
        "plt.show()"
      ],
      "metadata": {
        "colab": {
          "base_uri": "https://localhost:8080/",
          "height": 484
        },
        "id": "h9V3f9JVVaVp",
        "outputId": "823bb4bc-3eec-466f-e910-6a883ee79e5d"
      },
      "execution_count": null,
      "outputs": [
        {
          "output_type": "display_data",
          "data": {
            "text/plain": [
              "<Figure size 1200x500 with 1 Axes>"
            ],
            "image/png": "[encoded data removed]"
          },
          "metadata": {}
        }
      ]
    },
    {
      "cell_type": "code",
      "source": [
        "import plotly.express as px\n",
        "fig=px.histogram(yelp_df,'stars')\n",
        "fig.show()"
      ],
      "metadata": {
        "colab": {
          "base_uri": "https://localhost:8080/",
          "height": 542
        },
        "id": "xR2pfT_ZWlGy",
        "outputId": "de7374c8-1961-4c7b-cef9-235d7d519469"
      },
      "execution_count": null,
      "outputs": [
        {
          "output_type": "display_data",
          "data": {
            "text/html": [
              "<html>\n",
              "<head><meta charset=\"utf-8\" /></head>\n",
              "<body>\n",
              "    <div>            <script src=\"https://cdnjs.cloudflare.com/ajax/libs/mathjax/2.7.5/MathJax.js?config=TeX-AMS-MML_SVG\"></script><script type=\"text/javascript\">if (window.MathJax && window.MathJax.Hub && window.MathJax.Hub.Config) {window.MathJax.Hub.Config({SVG: {font: \"STIX-Web\"}});}</script>                <script type=\"text/javascript\">window.PlotlyConfig = {MathJaxConfig: 'local'};</script>\n",
              "        <script src=\"https://cdn.plot.ly/plotly-2.18.2.min.js\"></script>                <div id=\"913f5a16-ce6c-45ce-b324-12fc25559afb\" class=\"plotly-graph-div\" style=\"height:525px; width:100%;\"></div>            <script type=\"text/javascript\">                                    window.PLOTLYENV=window.PLOTLYENV || {};                                    if (document.getElementById(\"913f5a16-ce6c-45ce-b324-12fc25559afb\")) {                    Plotly.newPlot(                        \"913f5a16-ce6c-45ce-b324-12fc25559afb\",                        [{\"alignmentgroup\":\"True\",\"bingroup\":\"x\",\"hovertemplate\":\"stars=%{x}<br>count=%{y}<extra></extra>\",\"legendgroup\":\"\",\"marker\":{\"color\":\"#636efa\",\"pattern\":{\"shape\":\"\"}},\"name\":\"\",\"offsetgroup\":\"\",\"orientation\":\"v\",\"showlegend\":false,\"x\":[5,5,4,5,5,4,5,4,4,5,5,5,5,4,4,2,3,5,3,4,3,5,5,1,5,4,5,4,4,4,5,1,5,4,3,1,4,4,4,4,4,4,4,4,4,3,5,3,4,4,4,5,4,4,5,4,2,4,4,5,4,1,3,4,1,1,5,5,4,5,4,1,4,4,5,4,4,4,5,1,4,4,5,4,1,4,5,4,5,1,1,5,4,4,4,5,4,4,5,5,4,5,5,4,3,1,5,3,5,4,2,5,5,1,3,4,3,3,4,1,4,5,5,4,5,5,1,5,3,2,3,3,4,4,5,3,1,2,5,4,1,4,4,3,5,5,3,2,1,5,3,4,5,3,5,5,3,5,5,2,5,5,2,2,5,1,5,3,4,4,1,3,2,3,4,4,5,5,5,3,5,3,5,5,5,5,4,4,5,5,1,4,4,5,3,4,2,3,4,5,5,5,5,4,4,5,5,4,1,4,3,3,1,5,4,5,4,5,2,4,4,3,5,3,4,2,5,5,5,5,4,4,2,3,1,2,4,2,5,1,3,5,4,2,5,4,4,4,4,3,3,5,2,5,5,4,4,2,5,5,5,4,5,4,5,4,5,3,3,4,5,4,4,3,4,3,5,4,5,5,3,1,3,2,5,5,3,1,3,1,3,2,1,5,4,5,4,4,5,1,4,3,4,4,4,4,3,5,2,3,4,5,4,3,4,4,5,2,3,3,4,1,3,2,5,4,4,4,3,3,3,5,2,5,5,4,4,4,1,5,5,5,3,2,4,3,3,5,2,4,5,3,5,5,5,5,4,5,4,4,5,5,4,2,2,5,4,3,5,5,4,4,5,1,4,2,4,5,3,5,5,1,5,4,4,5,5,4,4,1,5,2,3,4,1,1,5,3,3,5,4,4,5,3,5,1,2,1,4,4,5,4,4,2,2,5,4,3,3,5,5,5,3,5,5,5,2,3,2,2,5,5,4,3,1,4,1,2,4,1,5,4,4,5,2,5,4,5,4,3,5,5,5,5,4,3,4,1,4,5,5,5,4,3,5,4,4,2,1,3,4,5,1,5,5,4,5,5,4,5,4,5,2,2,4,3,4,1,1,4,4,4,5,5,2,4,4,4,3,5,5,2,5,4,5,2,5,1,1,5,3,4,5,4,2,4,5,2,5,4,4,5,4,3,2,2,4,3,1,3,4,3,4,5,3,4,5,5,4,4,2,4,4,5,1,4,4,5,4,3,4,4,4,5,5,5,4,4,4,1,4,3,5,1,3,3,3,4,4,5,5,5,5,3,5,1,4,5,4,3,3,5,4,5,4,5,4,3,1,4,2,5,4,4,5,3,4,3,4,5,5,2,2,4,5,4,1,4,5,1,5,2,4,3,2,4,4,5,5,5,5,4,4,2,4,4,5,4,4,5,5,5,5,4,4,5,5,3,4,5,4,5,4,4,3,4,5,4,2,4,3,5,3,4,5,4,5,3,3,3,5,3,2,4,3,5,1,5,5,4,4,1,5,3,4,3,2,4,1,5,5,4,4,5,5,4,2,2,2,4,1,2,4,4,4,4,5,3,3,4,2,4,4,4,5,5,4,1,3,4,5,5,4,5,1,1,5,5,2,5,4,2,4,3,5,3,2,4,5,5,5,4,4,2,5,4,2,5,5,4,5,5,2,4,4,5,3,4,5,1,5,5,1,1,5,2,1,3,3,4,4,4,5,5,4,1,3,1,2,3,2,4,2,1,4,3,4,5,1,5,5,4,4,3,5,5,4,2,4,5,4,4,5,5,5,2,2,5,5,2,3,5,2,5,4,1,4,4,4,4,5,3,4,5,4,3,5,5,4,3,2,5,5,5,3,5,4,4,4,3,4,5,4,4,2,3,4,4,3,4,5,5,1,3,1,4,3,3,5,5,4,1,4,4,5,2,5,5,5,4,5,4,5,3,4,4,3,3,5,5,5,4,3,4,1,4,4,5,5,4,5,5,2,4,2,4,5,5,4,3,5,5,5,4,5,4,3,3,5,4,5,4,5,4,3,5,2,5,4,2,5,5,1,5,5,5,4,4,3,4,4,5,4,4,5,5,5,5,1,5,5,4,3,4,5,5,4,4,4,4,4,3,1,1,1,5,5,5,1,5,4,4,4,4,3,5,4,4,4,5,1,3,1,4,5,4,3,2,3,4,4,2,2,4,5,4,4,4,3,1,5,3,5,1,4,5,4,4,5,5,5,5,4,3,3,1,5,2,5,5,4,4,2,4,4,3,4,3,4,4,4,5,5,5,4,3,4,2,5,5,4,1,5,3,2,1,5,5,5,5,2,2,5,4,4,5,4,5,4,5,4,3,4,2,5,5,5,2,1,5,4,4,5,1,5,4,5,5,5,5,5,4,3,1,4,4,3,3,4,5,4,4,5,2,5,5,4,4,5,4,3,4,1,3,4,4,5,5,4,3,4,3,4,3,5,4,5,4,4,1,4,4,5,4,3,5,4,4,4,5,5,4,5,5,4,1,1,5,5,5,4,5,5,3,5,4,2,2,2,3,4,4,4,4,5,4,5,5,5,4,5,5,4,3,2,5,1,2,4,4,4,5,2,4,1,3,5,5,5,1,3,4,4,3,4,5,5,5,2,5,5,5,5,5,3,1,4,5,5,3,3,2,2,4,2,3,2,1,2,5,5,3,4,4,5,4,5,4,2,5,5,5,1,5,2,5,4,1,5,3,4,4,1,3,4,3,2,5,3,5,3,4,5,5,4,5,1,1,4,5,3,2,4,3,4,5,2,2,4,4,4,2,5,1,3,5,3,2,2,5,2,3,1,5,5,4,4,5,5,5,5,4,4,5,4,5,5,4,5,4,1,5,5,2,3,4,2,4,4,4,5,4,5,2,3,5,4,5,5,5,2,1,4,4,5,3,4,1,4,1,4,5,4,5,5,5,5,5,3,5,4,5,1,5,5,4,5,4,3,5,5,5,3,5,4,4,3,4,5,3,4,5,4,1,4,4,4,4,4,2,3,5,5,5,2,5,3,4,4,4,4,4,4,5,4,5,2,4,5,5,5,5,3,5,5,4,4,2,4,5,2,5,1,5,5,3,4,5,5,5,4,4,4,2,4,1,4,4,4,3,5,5,4,3,3,5,4,3,4,3,4,4,4,4,5,2,1,1,4,2,3,4,5,3,5,4,4,4,1,5,4,2,2,1,5,4,4,4,4,3,3,5,4,4,5,2,4,5,5,4,4,5,2,5,5,5,5,5,3,5,4,3,5,4,4,5,5,4,5,4,5,4,5,2,4,5,5,1,4,3,2,2,3,5,5,4,4,5,3,5,4,5,4,4,3,4,4,3,4,4,4,3,2,5,2,4,5,5,5,4,4,4,5,3,5,3,4,1,2,5,4,3,4,3,5,3,4,1,4,5,2,4,5,3,4,5,5,1,5,4,5,5,1,3,4,4,4,5,4,3,2,3,5,5,2,4,3,4,5,4,4,5,4,4,5,4,4,5,3,4,3,4,5,1,3,1,4,4,5,5,3,5,5,4,5,5,4,5,4,5,5,4,4,4,2,3,5,4,5,5,4,4,3,5,4,3,5,4,4,3,4,3,4,5,4,3,5,2,1,5,5,5,5,4,2,5,3,4,4,4,4,2,4,4,3,4,5,4,4,4,5,5,5,5,5,4,5,2,5,4,5,4,4,4,4,4,4,3,4,3,5,3,4,4,5,5,1,4,3,5,5,4,4,2,2,3,1,1,5,4,3,4,3,5,3,5,5,3,5,3,2,4,5,4,4,2,3,3,5,3,3,4,2,5,2,1,5,5,4,5,5,5,5,2,1,1,4,4,4,5,2,5,2,5,4,5,5,5,2,2,5,1,4,4,3,3,2,4,5,5,4,3,3,5,5,1,4,3,5,4,4,3,5,2,3,5,2,1,4,5,5,5,2,4,1,5,3,5,4,4,4,3,4,5,4,4,4,3,4,4,5,3,5,5,4,4,5,4,2,2,3,1,5,5,3,5,5,4,4,5,2,5,5,4,5,4,3,5,5,2,5,4,4,5,4,2,2,5,2,4,5,4,4,5,4,5,4,2,3,4,2,2,4,4,1,4,5,4,1,4,4,5,4,5,4,5,5,5,3,4,4,5,2,3,3,3,5,4,5,4,5,4,4,4,4,1,5,5,5,5,3,5,1,4,5,4,4,3,4,2,4,3,4,4,4,1,2,4,1,5,4,4,3,3,5,5,5,5,3,5,5,5,1,4,4,5,5,4,5,1,5,4,4,5,1,3,4,4,5,2,4,2,4,4,5,2,5,5,3,1,5,1,3,1,1,4,5,5,5,4,1,2,3,3,5,4,3,5,5,4,4,3,5,5,5,5,4,5,2,5,2,4,3,4,4,3,4,4,4,3,4,4,3,1,4,5,1,4,4,3,2,4,2,5,5,4,2,5,4,4,5,4,4,3,4,5,4,5,4,2,5,5,3,5,4,4,5,5,3,3,5,5,5,3,3,3,5,5,4,2,4,2,3,4,5,5,5,4,4,5,5,4,3,4,4,3,4,3,2,5,2,4,4,4,4,5,2,5,4,4,3,5,2,3,5,4,1,5,5,5,4,1,4,4,2,3,2,4,5,3,1,5,4,5,3,5,5,4,5,3,4,5,4,5,5,1,4,4,4,3,5,1,4,4,1,4,4,5,5,4,5,2,4,4,2,4,5,3,2,5,1,5,4,3,3,5,4,4,4,4,4,5,4,2,4,3,2,4,4,3,2,4,4,4,4,4,4,5,4,5,3,5,5,5,2,4,4,3,2,4,4,5,5,5,4,4,5,4,3,4,5,3,4,5,1,5,5,5,5,5,5,5,1,4,5,3,4,5,5,2,4,3,4,4,3,1,3,5,3,1,5,5,3,4,2,4,4,2,4,5,4,2,5,5,2,4,4,5,5,5,4,4,5,3,2,2,3,4,4,5,2,4,2,4,3,4,5,4,4,5,2,5,5,4,5,4,5,3,5,3,2,2,4,4,1,4,4,1,2,4,5,4,2,5,4,3,4,5,4,5,5,5,4,5,3,4,5,5,3,4,5,5,5,5,4,3,4,3,3,4,4,1,5,4,5,5,3,4,5,4,1,4,5,5,4,5,3,5,4,5,5,2,5,3,5,1,4,1,5,4,5,4,5,5,1,4,5,5,2,4,4,5,5,5,3,4,4,2,2,5,4,5,5,2,4,1,4,4,4,5,4,4,3,1,4,4,5,4,3,3,5,4,1,4,5,3,4,5,5,5,4,4,5,1,3,5,5,1,5,5,5,2,4,4,4,4,4,4,1,5,4,4,4,5,5,3,3,3,5,4,5,4,5,4,4,4,4,3,2,2,2,5,4,4,5,5,2,5,4,4,3,4,4,3,5,3,4,5,4,5,3,3,4,5,5,5,5,2,4,4,4,4,5,4,3,3,5,3,5,1,1,4,1,4,4,5,3,3,3,5,5,4,4,5,5,4,4,1,4,5,2,4,5,5,2,4,5,4,4,4,1,3,1,4,4,4,4,4,5,3,4,3,3,3,3,5,1,5,2,4,5,3,4,5,4,2,1,3,5,2,1,4,4,5,5,4,3,4,5,2,1,4,4,5,5,3,4,2,4,5,5,4,5,5,2,1,5,4,5,1,3,4,1,2,4,4,5,2,3,3,3,4,4,4,5,5,5,2,1,5,5,3,2,5,4,5,3,1,2,4,5,4,4,2,2,3,5,5,5,4,3,4,4,5,4,4,4,4,5,5,4,4,4,4,4,1,4,4,5,4,4,3,5,3,5,4,4,4,4,5,3,4,1,4,1,1,4,5,5,2,5,1,3,5,1,4,2,2,5,4,4,5,3,1,4,1,4,2,5,3,4,1,5,5,5,1,5,3,5,4,5,4,4,1,4,4,5,3,4,5,4,2,1,3,3,4,4,5,3,4,5,4,4,5,2,4,3,4,5,4,4,1,1,4,5,5,5,4,3,5,1,5,4,5,1,5,5,5,1,4,2,4,3,5,4,1,5,5,5,3,4,5,2,4,4,4,4,4,3,4,4,4,4,4,4,2,3,4,5,5,4,4,4,5,3,5,2,3,5,1,4,3,1,4,5,1,1,4,5,4,4,5,5,5,3,4,3,5,3,4,4,4,4,5,3,5,5,5,5,5,4,4,5,5,2,2,4,4,4,1,2,4,5,2,2,1,4,2,5,5,4,3,2,4,3,5,3,5,3,4,5,4,4,4,5,5,2,5,5,3,5,4,4,5,1,4,5,2,4,5,5,5,4,4,5,1,4,3,4,2,5,5,4,4,4,4,4,4,2,5,5,3,1,4,5,3,4,4,5,5,4,5,2,3,5,5,5,1,4,1,1,4,3,2,3,4,4,5,4,4,5,4,5,5,5,4,4,5,5,4,5,4,4,5,4,5,5,5,5,1,2,4,3,5,5,3,4,5,2,5,4,5,4,4,4,4,4,5,4,1,4,4,5,4,4,5,5,5,5,5,5,1,5,4,4,4,4,4,3,4,5,5,4,4,4,5,2,3,4,4,5,5,3,5,5,3,5,3,3,2,3,5,5,3,3,3,3,4,4,4,2,4,5,5,5,5,4,1,4,2,5,4,3,4,3,3,4,4,5,2,3,5,1,5,4,4,5,4,5,4,4,5,4,4,3,3,4,5,2,4,4,4,4,5,4,4,5,5,2,4,2,4,4,4,5,1,5,5,5,1,4,4,4,3,3,3,4,5,2,5,5,3,4,3,4,2,5,4,4,5,3,4,5,4,3,5,4,5,1,5,1,5,4,5,4,1,5,3,2,5,3,5,4,4,4,3,3,4,5,4,5,2,5,3,3,3,5,4,4,3,4,5,2,4,3,3,5,3,1,5,4,4,2,4,3,5,2,3,1,5,5,5,1,4,5,5,5,5,3,1,4,5,5,5,3,5,5,4,5,4,5,3,3,4,5,1,4,5,4,3,3,3,5,4,2,4,4,4,5,3,5,4,4,4,5,1,5,5,3,4,2,4,5,2,5,4,4,2,2,4,5,2,5,2,4,5,2,3,4,5,5,4,5,3,4,5,5,5,5,4,3,3,2,4,5,4,2,5,5,5,4,4,5,5,3,3,4,4,3,4,4,4,1,4,5,3,4,2,4,4,1,2,3,4,4,4,5,2,4,5,5,4,4,3,4,3,4,4,4,4,1,4,5,4,4,4,5,3,2,2,5,5,5,5,4,5,5,5,5,2,3,5,5,4,4,3,4,4,1,4,4,5,5,3,4,2,4,3,5,1,4,4,4,4,4,5,4,5,4,3,5,3,4,4,4,4,1,2,4,3,5,4,5,4,4,4,4,2,1,4,2,4,4,4,4,5,5,4,1,4,5,4,3,1,5,4,5,3,4,4,5,4,5,5,4,5,5,5,2,5,4,4,3,4,4,5,1,5,4,4,2,3,3,3,4,4,5,5,4,5,4,4,5,5,4,4,2,5,2,1,4,5,5,4,5,5,3,3,5,4,4,5,5,5,3,5,5,1,5,4,5,4,2,4,5,3,2,2,5,3,3,3,2,4,4,4,4,3,1,3,5,5,4,2,5,5,4,5,4,5,5,3,1,2,4,3,4,3,3,4,3,5,3,2,4,4,4,3,5,4,4,3,5,1,4,4,3,4,4,4,5,4,4,5,4,5,1,4,4,4,3,2,5,4,5,4,3,4,5,3,1,5,5,4,4,4,4,1,5,3,4,4,5,4,4,5,1,5,3,5,4,1,5,3,3,5,3,4,3,1,5,3,3,4,2,4,3,3,5,5,5,3,1,5,4,3,5,4,5,5,1,3,1,5,4,1,5,1,5,5,5,4,5,4,5,1,4,5,3,5,2,4,1,5,5,3,5,5,4,5,4,5,1,1,5,4,3,1,3,4,1,4,5,5,4,3,3,4,3,1,4,3,5,4,4,2,3,5,5,3,4,5,1,5,3,3,5,5,4,3,5,5,5,4,4,3,4,4,4,5,5,5,4,3,4,3,5,4,5,5,4,3,4,5,5,4,2,4,3,5,4,4,2,5,3,4,4,5,5,4,4,4,4,3,5,4,3,5,5,1,5,3,5,4,5,4,4,4,4,4,5,5,4,5,3,5,3,5,1,4,2,5,2,3,1,5,5,5,2,4,3,4,2,5,4,5,5,1,5,4,3,5,1,4,1,1,1,5,3,5,5,2,5,2,3,5,4,1,2,4,5,4,2,4,4,4,4,1,4,5,2,5,4,2,3,3,2,5,4,4,2,5,1,5,4,5,5,1,3,3,2,5,4,2,1,5,4,5,5,1,5,2,5,3,2,1,2,5,3,4,5,3,4,1,5,2,4,4,3,4,4,4,3,5,5,4,2,2,3,5,3,5,5,2,3,1,2,5,4,4,4,4,2,5,4,1,2,5,4,4,3,4,3,3,4,4,4,3,5,5,3,4,5,4,4,5,5,4,4,4,4,5,3,3,5,4,5,5,3,3,5,4,5,5,5,5,5,4,4,4,3,2,3,4,5,5,5,5,4,4,5,4,5,5,5,3,2,5,3,5,3,3,4,4,3,3,3,5,5,3,3,5,5,3,3,5,5,4,4,1,5,5,4,5,4,4,5,3,4,4,4,3,3,5,5,5,4,4,4,4,3,3,5,2,2,5,4,5,5,5,2,3,4,3,4,5,5,3,5,5,2,4,4,5,5,2,5,4,4,5,4,4,5,5,5,4,2,5,5,3,3,3,5,5,4,5,4,2,4,5,2,2,5,3,4,5,4,3,4,5,4,5,5,4,4,5,4,4,4,4,5,2,5,3,3,4,5,5,1,4,3,5,4,5,5,4,1,4,5,4,4,2,2,5,4,1,5,1,5,4,1,4,5,5,5,5,5,4,4,1,5,5,4,4,3,2,5,5,5,2,4,5,5,5,5,1,2,5,2,5,5,4,5,4,5,4,2,4,4,5,3,5,4,4,4,4,4,5,4,5,5,5,5,2,5,3,5,4,4,4,5,2,5,3,5,4,4,3,4,5,1,1,4,3,5,4,5,4,4,3,5,5,4,5,4,4,5,4,5,4,4,4,2,3,3,4,3,4,4,2,3,5,5,4,4,2,5,4,3,4,4,3,4,5,2,4,5,3,4,4,5,4,5,4,5,1,4,4,5,3,4,5,4,4,1,5,1,4,5,4,2,5,3,5,5,3,5,4,4,2,5,4,5,4,5,5,4,4,2,2,5,5,4,3,5,3,4,2,3,5,4,4,4,4,4,4,5,5,1,3,5,5,4,5,3,3,4,4,4,5,4,2,4,5,5,3,4,4,1,2,5,1,2,5,4,1,4,2,4,2,3,5,1,5,5,5,5,4,5,5,5,2,4,5,1,3,3,3,5,5,5,5,3,2,5,5,5,5,5,5,4,1,2,5,5,4,4,2,5,5,5,4,4,4,3,4,5,4,2,3,4,2,5,4,3,5,5,1,5,5,4,3,4,2,4,5,4,4,3,4,4,5,4,3,5,4,2,5,4,1,4,2,1,4,2,4,4,4,3,3,4,3,4,5,5,4,5,4,5,5,4,4,3,2,5,5,3,4,1,3,5,4,4,1,4,3,5,4,5,4,4,5,4,3,5,2,4,4,2,4,4,4,4,1,4,5,3,5,4,5,5,1,4,4,2,5,5,4,4,4,5,4,4,5,4,3,4,5,2,3,5,4,1,1,4,5,4,2,4,4,5,4,4,4,5,4,5,5,4,4,5,2,4,3,5,4,3,5,2,4,5,3,1,4,5,5,3,4,4,2,4,4,2,3,1,4,3,5,3,4,3,5,5,3,2,4,3,4,5,4,5,5,5,1,4,5,5,5,5,5,3,4,4,5,4,4,4,2,5,5,4,2,3,5,4,4,4,3,4,1,2,2,5,4,1,5,1,2,4,4,3,5,4,3,5,4,3,5,5,3,4,1,3,5,4,5,5,3,4,5,4,2,5,4,5,5,5,5,5,4,5,4,5,1,2,4,4,5,4,4,5,3,3,1,4,3,5,5,4,5,5,4,4,4,5,5,2,3,2,4,5,4,5,4,5,4,4,3,4,1,1,4,1,5,2,5,5,5,5,5,4,3,4,3,4,5,4,4,4,5,5,5,5,3,4,4,4,4,4,5,2,2,3,5,2,3,4,4,5,5,3,4,4,4,5,4,5,2,4,5,5,4,4,4,3,5,1,4,4,5,4,5,1,2,5,5,5,4,4,4,5,5,4,3,4,4,4,5,2,4,4,3,1,5,5,2,5,4,4,4,5,5,5,5,5,1,5,5,2,5,2,4,3,5,2,5,3,4,3,5,5,5,3,5,4,5,5,4,3,3,4,2,4,4,4,3,5,4,4,3,1,4,1,5,4,2,5,5,5,4,1,5,5,1,4,2,5,5,5,4,5,4,5,4,4,3,1,4,2,3,5,3,4,5,3,5,4,5,4,4,1,2,4,1,3,4,5,5,4,5,4,4,5,2,5,4,1,4,5,5,5,4,4,4,4,4,4,5,4,5,3,5,2,5,2,5,4,4,5,5,4,5,4,5,5,3,1,4,5,2,4,5,4,4,4,4,4,4,3,5,4,4,2,5,5,3,4,5,3,3,4,4,1,1,5,5,3,3,5,4,5,5,5,4,3,4,5,5,2,4,5,5,3,5,2,1,1,4,5,5,3,4,4,5,2,4,2,4,4,2,5,1,3,5,5,4,5,3,3,4,1,4,2,4,4,4,1,3,3,5,5,5,4,5,4,4,4,3,2,3,5,5,2,3,4,4,4,5,5,4,3,1,5,5,5,4,1,4,5,3,3,5,5,5,3,3,1,3,5,1,4,5,1,1,4,3,5,5,4,5,5,1,4,4,5,3,5,3,5,5,4,4,2,2,4,2,2,2,5,5,3,5,4,5,5,2,4,3,1,3,4,4,3,5,4,5,4,5,3,5,5,4,4,2,4,3,5,5,3,5,4,2,5,4,4,4,5,2,3,5,3,5,4,5,4,1,2,5,1,4,5,3,4,4,4,3,3,4,4,5,3,4,4,5,1,4,5,4,5,3,5,4,5,5,2,4,5,4,2,4,5,5,4,5,2,2,1,5,4,4,4,4,5,5,4,5,4,5,5,2,4,3,5,4,2,2,5,4,5,1,5,3,5,5,2,4,4,3,5,3,3,3,5,4,4,1,5,5,4,3,5,3,5,5,4,2,3,5,4,5,4,1,5,5,5,5,3,4,2,5,3,5,5,1,3,5,5,3,4,3,3,2,5,5,3,4,3,1,5,4,2,5,5,5,5,3,5,5,3,4,4,4,5,4,5,4,5,3,5,5,3,4,5,3,5,2,4,5,4,4,3,4,5,3,4,5,5,3,2,1,3,3,2,5,5,5,4,3,3,4,4,2,1,5,5,4,4,4,4,5,3,2,5,4,1,5,4,5,5,3,4,5,5,5,5,4,5,2,3,4,5,1,4,3,5,5,4,4,5,5,5,3,4,5,4,3,5,3,5,4,4,4,3,4,5,5,4,4,5,5,4,4,4,2,1,5,5,5,4,4,4,5,2,3,3,5,4,4,5,2,1,3,4,4,5,1,1,5,4,3,3,2,5,2,3,1,4,4,3,5,2,3,4,5,3,1,3,2,5,3,4,5,4,2,4,5,5,4,4,4,5,5,5,1,5,4,4,3,2,4,4,3,2,5,3,1,4,3,4,1,4,4,4,5,4,5,4,1,5,1,5,5,5,2,5,1,3,3,4,2,5,3,4,2,2,5,4,1,4,2,3,5,2,1,5,5,4,4,5,2,5,4,3,5,2,5,5,4,4,5,5,2,4,4,5,5,3,5,4,5,4,4,5,3,4,4,2,4,4,3,4,3,1,4,4,4,5,5,4,4,4,2,5,1,1,5,5,3,4,4,4,4,2,3,5,4,4,5,4,2,4,4,5,4,3,4,4,4,4,5,2,4,4,4,4,5,1,5,4,4,3,5,4,5,5,1,5,4,4,4,3,4,2,5,5,2,2,4,5,4,4,5,4,5,5,4,5,5,3,4,2,5,5,5,4,5,2,5,4,4,4,3,3,5,5,4,3,5,5,3,4,5,4,3,3,5,4,4,3,3,2,4,3,5,2,5,2,5,4,4,5,5,4,4,5,4,4,2,1,4,5,4,3,5,5,5,3,2,4,3,4,2,4,4,3,5,4,5,2,4,4,1,4,3,4,5,3,2,5,4,5,3,5,3,4,2,4,5,3,4,5,4,4,5,3,1,4,4,5,4,3,3,4,4,3,4,5,5,4,4,3,2,1,3,1,2,4,4,2,3,4,4,1,3,4,4,5,5,2,4,5,4,5,4,3,4,3,4,1,1,4,2,3,3,4,5,4,4,2,4,4,3,2,3,5,3,4,5,4,5,5,1,5,1,3,4,2,3,3,4,5,4,4,2,5,2,5,3,1,5,3,5,4,4,1,5,4,2,4,2,5,5,4,5,3,2,4,5,2,2,4,4,5,2,5,2,5,2,5,5,1,4,4,5,5,4,5,5,5,3,3,2,4,4,5,5,5,5,5,2,2,5,5,5,5,5,5,4,5,5,5,5,5,5,4,2,4,5,5,4,2,2,4,2,5,4,5,5,5,4,3,4,2,4,5,4,5,5,4,5,5,5,5,4,3,3,4,5,4,5,5,2,4,4,4,5,5,3,4,2,4,4,5,4,2,2,4,3,5,4,4,5,3,5,3,2,4,4,2,4,5,5,5,1,4,5,1,2,5,5,2,4,4,5,5,1,3,1,3,5,2,4,5,4,1,5,3,4,1,5,3,2,4,5,4,4,4,3,5,4,4,4,2,4,4,5,5,3,5,1,1,4,1,4,4,5,4,4,4,4,5,5,5,4,5,3,3,3,4,3,5,5,3,5,5,3,4,2,5,4,4,2,5,5,4,4,5,4,5,4,2,5,5,5,4,4,4,1,5,2,4,4,5,4,4,5,5,4,5,3,2,5,3,4,5,5,5,5,5,1,4,1,1,4,1,5,5,5,1,5,4,4,4,3,2,3,2,5,3,3,4,5,4,1,4,5,5,5,4,3,5,4,3,5,5,5,4,3,5,5,5,5,2,4,1,4,1,3,5,5,3,4,5,5,5,2,5,5,5,4,4,4,5,3,4,4,3,5,1,3,5,5,1,4,2,5,5,5,5,2,1,3,4,5,5,3,1,4,3,5,2,4,4,4,4,5,3,5,5,4,4,5,4,3,2,5,3,4,5,4,2,2,5,5,2,3,5,5,4,4,4,4,4,5,5,3,4,1,1,5,1,5,2,4,2,4,5,2,4,4,1,5,4,5,5,1,4,3,5,4,1,3,5,4,3,5,3,4,4,5,4,4,3,5,4,2,4,1,5,4,5,4,3,3,5,5,1,4,5,4,3,4,4,4,4,4,4,5,3,4,5,5,5,2,4,4,4,5,3,4,4,4,4,5,3,3,5,2,5,4,4,4,5,1,4,2,2,4,5,4,5,3,5,2,5,4,3,2,5,5,5,1,5,4,4,1,5,5,3,4,5,1,5,4,5,5,3,2,5,2,4,5,5,4,4,4,5,5,5,4,4,5,5,5,4,4,1,4,5,5,4,4,5,5,3,3,4,4,4,3,4,2,2,5,3,4,5,5,3,5,3,5,5,4,4,5,1,4,5,4,4,5,4,4,5,4,4,4,4,2,5,4,5,5,4,4,2,5,4,5,1,4,5,2,3,4,3,2,4,4,2,5,4,4,3,4,1,5,1,4,4,4,4,4,1,5,4,4,4,1,2,2,3,5,3,4,5,5,4,5,2,5,3,5,4,4,4,5,3,4,1,5,3,5,4,5,3,5,5,4,4,4,5,5,3,4,1,4,5,3,3,3,4,4,4,4,4,1,1,4,5,4,5,2,3,2,3,2,4,5,4,2,1,5,4,3,1,2,5,1,4,2,1,2,4,5,5,2,5,4,2,4,5,5,5,2,3,4,4,5,5,4,4,5,4,3,4,5,4,4,5,1,5,4,5,2,4,4,4,2,5,4,4,4,4,5,5,4,4,4,2,4,3,4,1,5,4,2,4,3,4,1,3,4,4,4,4,5,5,3,4,1,5,5,3,1,4,4,1,4,4,5,5,2,5,3,4,4,5,5,3,5,2,4,2,5,2,4,2,5,3,4,4,4,5,3,4,5,2,3,4,3,5,4,1,1,2,2,2,5,4,5,3,5,4,5,4,4,2,4,3,4,3,5,2,3,3,5,4,1,5,3,5,3,5,4,5,4,5,5,3,3,5,4,4,5,4,3,5,5,4,1,4,4,4,5,2,5,3,4,4,4,4,3,1,4,3,4,3,4,3,3,4,4,5,4,4,5,3,3,3,4,2,5,4,4,3,2,5,4,4,3,3,5,5,5,2,3,4,2,5,2,3,4,4,4,5,5,5,1,3,1,5,3,4,4,4,4,5,4,4,5,3,4,4,3,2,4,1,4,2,1,3,5,4,4,1,5,5,3,4,5,5,5,4,2,3,2,4,5,2,2,3,5,4,5,4,5,3,5,5,4,2,5,5,3,3,5,5,5,4,2,5,1,4,1,5,4,4,5,4,2,5,2,3,3,4,2,1,2,2,5,5,1,4,5,3,5,3,2,4,5,5,5,5,5,3,5,4,4,4,4,5,1,4,4,4,4,3,2,4,5,4,3,3,5,5,4,3,4,4,5,4,5,3,4,1,4,2,4,5,4,5,4,1,5,4,2,4,5,2,3,5,4,4,4,5,5,4,4,5,4,5,5,3,5,5,5,4,4,4,5,3,4,5,4,3,1,3,2,4,5,4,3,3,4,3,5,4,3,2,4,2,3,1,5,4,5,2,4,4,5,5,4,5,4,2,4,1,4,4,1,4,3,3,3,1,5,5,4,5,4,5,4,5,5,4,4,4,5,4,5,4,4,5,2,3,4,5,2,4,3,5,2,1,5,3,5,5,3,4,2,4,5,5,4,3,2,4,1,4,3,1,4,1,4,5,5,4,3,4,4,1,1,2,5,4,4,3,4,5,5,1,5,5,1,5,3,5,5,4,1,5,3,5,3,3,5,3,3,5,5,3,4,4,2,5,4,2,5,4,3,3,4,4,4,4,4,4,4,3,4,1,4,4,2,3,4,5,1,4,4,5,2,3,5,2,4,4,5,5,5,5,5,2,4,5,5,2,5,3,1,5,3,5,5,4,3,4,4,4,4,5,3,4,5,3,5,4,5,1,4,4,4,3,5,5,4,5,5,1,2,4,5,4,4,5,5,4,5,5,4,5,5,1,2,4,5,5,2,5,5,5,2,4,5,5,1,1,4,4,3,4,5,5,5,2,3,3,2,3,4,4,5,4,4,2,5,1,5,5,4,4,4,4,2,3,5,5,2,4,5,3,4,3,5,4,5,4,5,3,2,4,4,2,3,4,5,5,4,4,5,4,4,4,5,5,5,5,4,2,2,4,4,4,5,1,4,1,5,5,1,5,4,4,5,5,2,3,5,5,5,4,4,4,1,5,4,1,4,5,5,4,3,4,5,3,5,5,4,4,3,2,5,3,3,5,4,4,4,4,2,4,5,5,5,4,4,3,4,5,4,5,4,5,5,3,1,5,4,3,4,5,5,5,2,3,4,4,3,4,5,3,4,4,5,3,1,3,4,4,2,5,4,4,5,4,5,3,4,4,5,3,3,4,4,4,5,2,1,3,5,5,4,1,5,4,5,5,4,5,4,4,4,4,1,3,1,3,5,5,2,4,4,5,5,5,5,4,3,5,5,4,4,4,2,1,5,4,3,4,4,5,4,4,1,3,4,5,3,4,5,5,4,2,4,4,4,5,5,2,4,5,2,5,1,2,5,4,3,5,4,4,5,5,3,4,3,4,1,3,3,5,3,5,1,4,4,1,1,4,5,1,5,4,5,4,4,1,4,2,5,5,4,4,5,4,4,4,2,1,1,5,4,1,5,3,4,4,3,3,1,1,4,4,4,3,4,5,3,5,5,5,5,5,2,5,3,4,4,5,3,4,5,4,4,5,1,4,5,1,4,2,4,5,4,5,2,4,4,3,5,5,2,1,2,4,5,1,1,2,2,3,5,4,3,3,4,2,5,4,4,4,2,5,4,5,5,5,4,4,5,4,1,4,5,1,3,5,5,2,3,5,5,4,4,4,1,5,3,5,2,4,1,3,3,3,4,4,5,5,4,4,3,3,5,5,4,4,5,3,5,3,5,5,5,3,4,4,5,2,4,4,1,5,4,4,2,2,4,5,4,5,4,4,2,3,5,5,5,4,2,5,4,2,4,5,4,4,4,4,4,4,3,3,4,4,4,5,5,5,5,2,5,3,1,4,5,4,4,4,5,5,5,4,5,4,5,5,4,5,5,5,4,4,5,4,4,4,1,5,4,4,5,5,3,1,4,5,4,1,3,4,3,5,1,3,4,5,3,2,4,5,4,5,5,2,4,5,5,2,4,5,5,4,5,1,4,3,4,4,4,5,4,5,5,5,1,1,4,1,1,1,3,3,4,4,4,5,5,2,2,4,4,5,4,4,1,1,4,4,4,3,5,5,3,5,4,5,5,3,5,4,1,4,2,3,3,4,4,4,5,5,4,5,2,3,4,1,5,2,1,1,5,1,5,4,2,4,5,3,4,4,4,3,2,3,1,4,1,2,5,2,5,3,4,4,5,3,5,4,2,5,4,3,4,5,3,5,5,5,4,5,5,3,4,5,4,5,3,3,4,4,4,5,2,4,5,5,2,2,3,5,5,5,4,4,3,4,4,5,3,5,3,2,4,4,1,5,4,5,2,4,1,5,4,5,2,4,4,5,2,4,3,4,4,3,3,3,4,3,5,2,5,4,5,2,4,4,4,1,2,3,4,5,3,4,5,5,5,5,2,4,4,5,4,4,4,5,2,5,2,4,1,5,4,3,4,3,5,4,5,4,3,5,5,3,5,4,1,5,5,1,5,4,3,1,4,5,3,5,5,2,5,5,5,4,4,4,5,4,5,5,3,5,3,3,4,4,5,4,5,5,3,5,3,4,5,3,5,5,4,1,5,3,5,5,4,4,4,4,1,4,4,5,4,3,5,3,4,3,4,4,2,5,2,5,2,5,4,4,4,4,2,4,4,3,4,3,3,1,4,5,5,3,5,5,5,5,4,2,3,5,2,5,4,4,4,5,4,4,4,5,3,4,4,4,4,4,3,4,4,4,3,5,4,4,4,1,3,5,5,5,5,3,5,3,3,5,4,3,5,2,4,3,3,5,5,5,5,1,4,5,5,4,5,5,5,4,5,4,2,4,4,4,4,5,5,3,1,1,5,4,3,3,4,4,5,3,4,3,5,4,5,4,4,5,5,3,4,5,4,4,4,1,5,5,1,5,5,3,5,4,4,3,3,4,4,3,4,5,4,5,4,5,2,2,5,4,3,2,5,5,4,3,5,3,5,2,3,5,4,5,1,4,5,5,5,4,4,4,4,5,5,1,3,4,3,4,5,2,3,4,2,4,4,4,1,5,5,4,1,4,3,5,5,3,4,4,3,5,1,4,5,4,1,4,4,5,2,2,3,3,4,4,3,5,4,4,5,2,3,5,4,1,4,5,3,5,3,3,3,4,5,5,2,2,3,4,5,5,3,5,5,5,5,3,3,3,5,4,5,2,4,1,5,1,5,5,5,4,5,1,5,4,3,5,5,4,2,4,4,4,1,1,5,2,1,4,4,5,4,5,4,5,5,5,5,4,4,2,4,4,3,4,4,2,5,3,5,5,4,3,3,3,5,1,3,3,5,4,5,4,3,3,1,1,4,5,5,2,5,5,4,1,4,2,4,5,5,5,4,3,4,3,1,3,5,5,4,5,3,4,5,3,4,5,5,4,3,2,5,5,3,1,4,4,4,1,5,1,4,4,5,3,3,3,4,5,5,5,4,5,4,3,5,4,4,4,4,4,4,2,2,3,5,3,5,5,3,5,4,4,2,1,2,2,4,2,3,4,4,2,4,5,4,5,2,5,4,1,3,4,5,5,5,3,5,3,2,2,5,4,2,4,1,5,5,1,3,5,4,1,4,4,5,4,3,3,3,5,1,5,5,4,4,5,4,4,3,2,4,4,4,2,4,4,5,4,5,1,3,4,5,4,4,5,5,4,1,4,5,3,3,2,2,3,5,4,5,4,3,2,4,4,3,5,4,2,2,5,4,4,3,3,5,4,5,5,4,5,4,4,5,2,3,5,4,5,3,3,5,4,5,3,5,5,1,5,4,4,4,4,4,4,4,5,4,4,3,4,4,3,4,1,4,5,5,5,4,5,5,2,1,3,4,4,2,5,4,3,3,4,4,2,2,5,5,4,4,1,5,4,2,4,5,4,5,5,4,5,5,5,3,3,3,5,5,5,4,1,5,5,5,4,5,5,2,2,3,1,2,2,1,4,1,5,5,4,3,5,2,4,4,5,2,5,3,5,4,4,4,4,5,4,5,5,5,4,4,5,1,5,4,4,5,5,4,5,5,1,2,4,4,4,3,4,2,5,4,4,5,5,1,3,5,4,2,4,1,4,1,4,4,4,4,3,4,5,5,5,3,4,5,5,4,5,5,4,4,3,5,5,3,4,5,4,3,2,5,3,2,3,3,2,4,3,5,5,5,3,5,5,2,2,5,3,2,4,3,5,4,3,5,4,5,3,4,4,4,4,5,3,5,2,4,4,5,4,5,3,5,1,4,5,4,2,4,4,3,4,5,3,4,5,4,4,2,2,5,4,4,5,4,1,3,2,5,5,4,5,5,5,4,5,3,5,2,4,5,3,4,1,3,5,2,5,4,5,4,4,4,4,5,4,5,3,4,3,3,5,4,5,5,5,4,3,4,5,1,4,5,4,5,5,4,4,1,3,3,3,1,1,1,4,5,4,4,1,4,4,5,5,4,5,3,1,2,5,4,3,5,5,5,3,4,3,2,4,1,3,5,2,2,5,5,3,3,5,5,5,4,4,1,2,3,3,1,4,4,4,2,5,5,4,3,2,5,5,5,4,5,5,5,4,5,5,1,5,5,4,1,4,4,1,1,5,5,3,1,5,2,4,4,4,3,3,4,2,5,4,4,1,5,5,2,4,5,3,4,4,1,4,4,4,1,4,3,5,5,4,1,4,4,3,3,5,5,5,3,2,5,3,3,5,5,5,4,1,1,4,5,3,4,3,3,4,5,5,4,5,4,1,4,4,5,3,3,5,3,5,4,3,3,5,5,1,2,3,5,4,4,4,3,4,5,5,3,4,4,2,1,4,4,5,1,5,1,4,2,2,4,3,4,3,5,1,5,4,4,3,5,4,5,3,5,1,2,5,4,4,4,1,3,2,5,5,4,5,4,4,5,5,1,5,5,2,4,5,5,5,4,4,2,4,5,4,4,2,5,4,4,5,4,3,4,3,5,4,3,4,1,5,5,5,5,5,1,5,3,5,5,3,5,4,5,4,5,4,3,3,5,5,2,3,2,4,4,4,5,4,5,5,5,3,4,4,5,2,5,5,5,5,4,1,5,4,4,4,3,5,3,4,3,2,4,4,5,4,4,4,1,4,3,4,3,5,5,4,4,5,4,5,4,4,1,4,5,1,5,5,5,4,2,5,5,5,3,5,3,4,2,5,4,3,2,4,5,5,4,5,4,3,3,5,4,2,5,5,3,5,4,1,4,4,5,5,5,5,2,4,4,4,5,5,5,1,4,3,1,1,4,5,3,1,3,4,5,4,5,1,5,2,4,2,3,4,4,5,1,5,5,3,1,3,4,5,4,5,4,2,4,2,3,2,5,4,2,4,5,5,2,4,2,4,3,4,4,4,4,4,4,4,5,1,2,1,5,4,4,4,5,4,2,4,4,4,4,5,5,5,4,4,4,1,4,4,1,4,3,4,4,4,4,4,5,3,4,5,5,4,3,5,4,4,4,5,5,4,3,1,1,2,2,5,3,4,5,4,5,4,5,5,5,4,1,3,5,5,2,5,4,5,5,1,4,4,5,5,5,3,2,3,1,4,5,3,5,5,4,5,4,4,3,4,1,5,5,4,5,4,3,4,5,5,1,2,1,4,4,4,3,5,5,5,5,4,4,5,3,4,4,3,4,5,4,5,2,2,5,4,4,3,4,4,2,4,2,4,4,3,4,5,2,2,2,1,4,5,4,5,4,4,3,5,5,5,3,4,5,5,4,5,3,4,4,1,5,4,4,2,3,4,4,4,4,4,1,5,4,5,4,5,4,4,3,5,3,3,4,5,5,5,5,4,4,4,5,4,1,4,5,4,3,2,5,5,4,4,5,4,4,4,4,5,5,2,5,4,4,4,5,5,5,4,2,4,5,3,5,4,5,5,2,5,2,4,4,3,4,4,1,3,5,5,2,5,4,5,4,1,1,2,5,5,4,2,4,5,4,5,4,4,5,5,1,3,4,1,4,2,5,5,4,4,4,5,1,5,1,4,4,3,1,4,5,4,4,5,5,4,4,4,4,4,4,3,3,5,3,1,5,5,5,5,5,3,3,3,4,4,4,5,5,4,5,4,4,5,5,4,4,3,1,3,1,5,4,1,4,2,4,4,4,5,3,4,4,4,5,5,5,5,4,5,2,2,5,5,4,5,4,5,5,4,3,5,5,5,3,2,3,5,4,5,3,2,4,2,5,3,5,5,4,4,1,5,5,3,2,4,5,4,2,3,2,5,4,4,4,4,5,4,4,5,4,5,2,4,4,5,1,1,2,5,5,5,4,4,4,5,4,1,5,4,4,4,5,5,5,5,4,5,3,4,4,2,1,2,5,5,4,4,2,4,5,1,5,5,1,3,2,4,5,2,4,4,3,1,4,3,5,1,3,4,4,5,4,2,1,4,5,4,5,5,4,5,4,4,4,4,4,4,4,4,2,5,4,3,5,5,3,1,4,1,5,5,4,5,4,5,1,3,5,5,2,4,4,5,1,2,5,4,4,4,4,5,5,4,5,3,1,4,3,1,5,4,5,5,3,3,4,5,1,4,4,4,5,5,5,4,3,4,3,3,4,1,4,5,3,1,4,2,5,4,5,3,4,3,5,1,1,3,2,5,3,4,5,4,4,5,1,4,2,1,5,5,4,2,5,5,4,5,5,5,1,4,4,3,4,5,1,3,4,4,4,1,4,4,2,4,4,4,5,5,5,5,5,2,4,4,5,5,4,5,5,3,4,4,4,2,5,1,3,5,2,4,5,5,4,3,4,5,5,3,4,4,3,4,5,4,4,2,5,4,5,4,4,5,4,1,5,2,5,5,4,4,5,5,3,4,5,5,4,4,5,5,2,4,4,4,3,5,2,2,4,4,1,5,4,3,4,2,4,3,3,3,4,4,2,5,4,5,4,5,4,4,5,5,5,3,5,4,4,5,5,5,4,5,5,4,5,2,2,1,3,2,4,3,4,5,1,4,4,5,3,4,5,4,5,2,3,4,5,4,4,5,4,4,4,5,2,5,4,5,5,4,4,5,4,5,5,5,5,4,4,3,1,4,4,2,1,5,3,5,4,4,5,3,4,5,5,5,5,1,1,2,1,4,3,5,3,5,4,4,3,5,1,1,4,1,4,5,5,4,4,4,1,4,5,2,2,4,5,4,5,3,4,4,2,5,5,4,2,4,4,4,5,5,4,4,4,5,3,3,2,4,2,4,5,2,4,5,5,4,4,4,3,5,5,4,2,2,4,5,4,5,5,4,4,5,4,5,2,4,4,5,4,4,5,4,5,5,4,4,4,5,3,5,4,5,4,3,4,5,4,5,4,5,3,1,3,4,4,4,4,3,4,4,3,3,5,2,3,5,3,5,4,4,4,4,2,3,5,4,4,5,1,5,4,3,2,3,4,3,5,5,1,4,4,5,4,5,3,5,4,4,4,4,5,4,5,5,3,4,5,5,4,4,5,3,5,5,5,1,3,2,4,4,4,2,5,4,4,4,4,5,3,5,5,5,5,2,3,4,5,5,4,1,3,1,5,5,3,4,4,5,5,4,4,5,4,2,1,5,4,4,4,5,2,4,4,3,5,1,3,1,3,2,2,2,1,4,2,4,4,3,5,4,4,5,4,4,5,5,1,5,5,4,2,3,5,2,4,4,4,3,4,5,4,5,3,4,4,5,4,4,4,4,3,3,2,5,4,5,4,5,5,1,5,5,5,4,5,4,5,4,4,5,4,5,5,4,1,5,5,4,5,4,4,4,1,4,5,1,3,4,4,3,2,4,1,2,3,5,3,2,5,4,5,4,5,5,5,4,5,3,5,4,4,4,5,2,1,2,3,5,5,3,5,4,3,4,4,3,5,5,3,3,5,5,5,4,5,2,5,3,5,5,5,5,5,4,3,1,4,4,1,4,5,5,5,5,4,5,3,4,4,2,5],\"xaxis\":\"x\",\"yaxis\":\"y\",\"type\":\"histogram\"}],                        {\"template\":{\"data\":{\"histogram2dcontour\":[{\"type\":\"histogram2dcontour\",\"colorbar\":{\"outlinewidth\":0,\"ticks\":\"\"},\"colorscale\":[[0.0,\"#0d0887\"],[0.1111111111111111,\"#46039f\"],[0.2222222222222222,\"#7201a8\"],[0.3333333333333333,\"#9c179e\"],[0.4444444444444444,\"#bd3786\"],[0.5555555555555556,\"#d8576b\"],[0.6666666666666666,\"#ed7953\"],[0.7777777777777778,\"#fb9f3a\"],[0.8888888888888888,\"#fdca26\"],[1.0,\"#f0f921\"]]}],\"choropleth\":[{\"type\":\"choropleth\",\"colorbar\":{\"outlinewidth\":0,\"ticks\":\"\"}}],\"histogram2d\":[{\"type\":\"histogram2d\",\"colorbar\":{\"outlinewidth\":0,\"ticks\":\"\"},\"colorscale\":[[0.0,\"#0d0887\"],[0.1111111111111111,\"#46039f\"],[0.2222222222222222,\"#7201a8\"],[0.3333333333333333,\"#9c179e\"],[0.4444444444444444,\"#bd3786\"],[0.5555555555555556,\"#d8576b\"],[0.6666666666666666,\"#ed7953\"],[0.7777777777777778,\"#fb9f3a\"],[0.8888888888888888,\"#fdca26\"],[1.0,\"#f0f921\"]]}],\"heatmap\":[{\"type\":\"heatmap\",\"colorbar\":{\"outlinewidth\":0,\"ticks\":\"\"},\"colorscale\":[[0.0,\"#0d0887\"],[0.1111111111111111,\"#46039f\"],[0.2222222222222222,\"#7201a8\"],[0.3333333333333333,\"#9c179e\"],[0.4444444444444444,\"#bd3786\"],[0.5555555555555556,\"#d8576b\"],[0.6666666666666666,\"#ed7953\"],[0.7777777777777778,\"#fb9f3a\"],[0.8888888888888888,\"#fdca26\"],[1.0,\"#f0f921\"]]}],\"heatmapgl\":[{\"type\":\"heatmapgl\",\"colorbar\":{\"outlinewidth\":0,\"ticks\":\"\"},\"colorscale\":[[0.0,\"#0d0887\"],[0.1111111111111111,\"#46039f\"],[0.2222222222222222,\"#7201a8\"],[0.3333333333333333,\"#9c179e\"],[0.4444444444444444,\"#bd3786\"],[0.5555555555555556,\"#d8576b\"],[0.6666666666666666,\"#ed7953\"],[0.7777777777777778,\"#fb9f3a\"],[0.8888888888888888,\"#fdca26\"],[1.0,\"#f0f921\"]]}],\"contourcarpet\":[{\"type\":\"contourcarpet\",\"colorbar\":{\"outlinewidth\":0,\"ticks\":\"\"}}],\"contour\":[{\"type\":\"contour\",\"colorbar\":{\"outlinewidth\":0,\"ticks\":\"\"},\"colorscale\":[[0.0,\"#0d0887\"],[0.1111111111111111,\"#46039f\"],[0.2222222222222222,\"#7201a8\"],[0.3333333333333333,\"#9c179e\"],[0.4444444444444444,\"#bd3786\"],[0.5555555555555556,\"#d8576b\"],[0.6666666666666666,\"#ed7953\"],[0.7777777777777778,\"#fb9f3a\"],[0.8888888888888888,\"#fdca26\"],[1.0,\"#f0f921\"]]}],\"surface\":[{\"type\":\"surface\",\"colorbar\":{\"outlinewidth\":0,\"ticks\":\"\"},\"colorscale\":[[0.0,\"#0d0887\"],[0.1111111111111111,\"#46039f\"],[0.2222222222222222,\"#7201a8\"],[0.3333333333333333,\"#9c179e\"],[0.4444444444444444,\"#bd3786\"],[0.5555555555555556,\"#d8576b\"],[0.6666666666666666,\"#ed7953\"],[0.7777777777777778,\"#fb9f3a\"],[0.8888888888888888,\"#fdca26\"],[1.0,\"#f0f921\"]]}],\"mesh3d\":[{\"type\":\"mesh3d\",\"colorbar\":{\"outlinewidth\":0,\"ticks\":\"\"}}],\"scatter\":[{\"fillpattern\":{\"fillmode\":\"overlay\",\"size\":10,\"solidity\":0.2},\"type\":\"scatter\"}],\"parcoords\":[{\"type\":\"parcoords\",\"line\":{\"colorbar\":{\"outlinewidth\":0,\"ticks\":\"\"}}}],\"scatterpolargl\":[{\"type\":\"scatterpolargl\",\"marker\":{\"colorbar\":{\"outlinewidth\":0,\"ticks\":\"\"}}}],\"bar\":[{\"error_x\":{\"color\":\"#2a3f5f\"},\"error_y\":{\"color\":\"#2a3f5f\"},\"marker\":{\"line\":{\"color\":\"#E5ECF6\",\"width\":0.5},\"pattern\":{\"fillmode\":\"overlay\",\"size\":10,\"solidity\":0.2}},\"type\":\"bar\"}],\"scattergeo\":[{\"type\":\"scattergeo\",\"marker\":{\"colorbar\":{\"outlinewidth\":0,\"ticks\":\"\"}}}],\"scatterpolar\":[{\"type\":\"scatterpolar\",\"marker\":{\"colorbar\":{\"outlinewidth\":0,\"ticks\":\"\"}}}],\"histogram\":[{\"marker\":{\"pattern\":{\"fillmode\":\"overlay\",\"size\":10,\"solidity\":0.2}},\"type\":\"histogram\"}],\"scattergl\":[{\"type\":\"scattergl\",\"marker\":{\"colorbar\":{\"outlinewidth\":0,\"ticks\":\"\"}}}],\"scatter3d\":[{\"type\":\"scatter3d\",\"line\":{\"colorbar\":{\"outlinewidth\":0,\"ticks\":\"\"}},\"marker\":{\"colorbar\":{\"outlinewidth\":0,\"ticks\":\"\"}}}],\"scattermapbox\":[{\"type\":\"scattermapbox\",\"marker\":{\"colorbar\":{\"outlinewidth\":0,\"ticks\":\"\"}}}],\"scatterternary\":[{\"type\":\"scatterternary\",\"marker\":{\"colorbar\":{\"outlinewidth\":0,\"ticks\":\"\"}}}],\"scattercarpet\":[{\"type\":\"scattercarpet\",\"marker\":{\"colorbar\":{\"outlinewidth\":0,\"ticks\":\"\"}}}],\"carpet\":[{\"aaxis\":{\"endlinecolor\":\"#2a3f5f\",\"gridcolor\":\"white\",\"linecolor\":\"white\",\"minorgridcolor\":\"white\",\"startlinecolor\":\"#2a3f5f\"},\"baxis\":{\"endlinecolor\":\"#2a3f5f\",\"gridcolor\":\"white\",\"linecolor\":\"white\",\"minorgridcolor\":\"white\",\"startlinecolor\":\"#2a3f5f\"},\"type\":\"carpet\"}],\"table\":[{\"cells\":{\"fill\":{\"color\":\"#EBF0F8\"},\"line\":{\"color\":\"white\"}},\"header\":{\"fill\":{\"color\":\"#C8D4E3\"},\"line\":{\"color\":\"white\"}},\"type\":\"table\"}],\"barpolar\":[{\"marker\":{\"line\":{\"color\":\"#E5ECF6\",\"width\":0.5},\"pattern\":{\"fillmode\":\"overlay\",\"size\":10,\"solidity\":0.2}},\"type\":\"barpolar\"}],\"pie\":[{\"automargin\":true,\"type\":\"pie\"}]},\"layout\":{\"autotypenumbers\":\"strict\",\"colorway\":[\"#636efa\",\"#EF553B\",\"#00cc96\",\"#ab63fa\",\"#FFA15A\",\"#19d3f3\",\"#FF6692\",\"#B6E880\",\"#FF97FF\",\"#FECB52\"],\"font\":{\"color\":\"#2a3f5f\"},\"hovermode\":\"closest\",\"hoverlabel\":{\"align\":\"left\"},\"paper_bgcolor\":\"white\",\"plot_bgcolor\":\"#E5ECF6\",\"polar\":{\"bgcolor\":\"#E5ECF6\",\"angularaxis\":{\"gridcolor\":\"white\",\"linecolor\":\"white\",\"ticks\":\"\"},\"radialaxis\":{\"gridcolor\":\"white\",\"linecolor\":\"white\",\"ticks\":\"\"}},\"ternary\":{\"bgcolor\":\"#E5ECF6\",\"aaxis\":{\"gridcolor\":\"white\",\"linecolor\":\"white\",\"ticks\":\"\"},\"baxis\":{\"gridcolor\":\"white\",\"linecolor\":\"white\",\"ticks\":\"\"},\"caxis\":{\"gridcolor\":\"white\",\"linecolor\":\"white\",\"ticks\":\"\"}},\"coloraxis\":{\"colorbar\":{\"outlinewidth\":0,\"ticks\":\"\"}},\"colorscale\":{\"sequential\":[[0.0,\"#0d0887\"],[0.1111111111111111,\"#46039f\"],[0.2222222222222222,\"#7201a8\"],[0.3333333333333333,\"#9c179e\"],[0.4444444444444444,\"#bd3786\"],[0.5555555555555556,\"#d8576b\"],[0.6666666666666666,\"#ed7953\"],[0.7777777777777778,\"#fb9f3a\"],[0.8888888888888888,\"#fdca26\"],[1.0,\"#f0f921\"]],\"sequentialminus\":[[0.0,\"#0d0887\"],[0.1111111111111111,\"#46039f\"],[0.2222222222222222,\"#7201a8\"],[0.3333333333333333,\"#9c179e\"],[0.4444444444444444,\"#bd3786\"],[0.5555555555555556,\"#d8576b\"],[0.6666666666666666,\"#ed7953\"],[0.7777777777777778,\"#fb9f3a\"],[0.8888888888888888,\"#fdca26\"],[1.0,\"#f0f921\"]],\"diverging\":[[0,\"#8e0152\"],[0.1,\"#c51b7d\"],[0.2,\"#de77ae\"],[0.3,\"#f1b6da\"],[0.4,\"#fde0ef\"],[0.5,\"#f7f7f7\"],[0.6,\"#e6f5d0\"],[0.7,\"#b8e186\"],[0.8,\"#7fbc41\"],[0.9,\"#4d9221\"],[1,\"#276419\"]]},\"xaxis\":{\"gridcolor\":\"white\",\"linecolor\":\"white\",\"ticks\":\"\",\"title\":{\"standoff\":15},\"zerolinecolor\":\"white\",\"automargin\":true,\"zerolinewidth\":2},\"yaxis\":{\"gridcolor\":\"white\",\"linecolor\":\"white\",\"ticks\":\"\",\"title\":{\"standoff\":15},\"zerolinecolor\":\"white\",\"automargin\":true,\"zerolinewidth\":2},\"scene\":{\"xaxis\":{\"backgroundcolor\":\"#E5ECF6\",\"gridcolor\":\"white\",\"linecolor\":\"white\",\"showbackground\":true,\"ticks\":\"\",\"zerolinecolor\":\"white\",\"gridwidth\":2},\"yaxis\":{\"backgroundcolor\":\"#E5ECF6\",\"gridcolor\":\"white\",\"linecolor\":\"white\",\"showbackground\":true,\"ticks\":\"\",\"zerolinecolor\":\"white\",\"gridwidth\":2},\"zaxis\":{\"backgroundcolor\":\"#E5ECF6\",\"gridcolor\":\"white\",\"linecolor\":\"white\",\"showbackground\":true,\"ticks\":\"\",\"zerolinecolor\":\"white\",\"gridwidth\":2}},\"shapedefaults\":{\"line\":{\"color\":\"#2a3f5f\"}},\"annotationdefaults\":{\"arrowcolor\":\"#2a3f5f\",\"arrowhead\":0,\"arrowwidth\":1},\"geo\":{\"bgcolor\":\"white\",\"landcolor\":\"#E5ECF6\",\"subunitcolor\":\"white\",\"showland\":true,\"showlakes\":true,\"lakecolor\":\"white\"},\"title\":{\"x\":0.05},\"mapbox\":{\"style\":\"light\"}}},\"xaxis\":{\"anchor\":\"y\",\"domain\":[0.0,1.0],\"title\":{\"text\":\"stars\"}},\"yaxis\":{\"anchor\":\"x\",\"domain\":[0.0,1.0],\"title\":{\"text\":\"count\"}},\"legend\":{\"tracegroupgap\":0},\"margin\":{\"t\":60},\"barmode\":\"relative\"},                        {\"responsive\": true}                    ).then(function(){\n",
              "                            \n",
              "var gd = document.getElementById('913f5a16-ce6c-45ce-b324-12fc25559afb');\n",
              "var x = new MutationObserver(function (mutations, observer) {{\n",
              "        var display = window.getComputedStyle(gd).display;\n",
              "        if (!display || display === 'none') {{\n",
              "            console.log([gd, 'removed!']);\n",
              "            Plotly.purge(gd);\n",
              "            observer.disconnect();\n",
              "        }}\n",
              "}});\n",
              "\n",
              "// Listen for the removal of the full notebook cells\n",
              "var notebookContainer = gd.closest('#notebook-container');\n",
              "if (notebookContainer) {{\n",
              "    x.observe(notebookContainer, {childList: true});\n",
              "}}\n",
              "\n",
              "// Listen for the clearing of the current output cell\n",
              "var outputEl = gd.closest('.output');\n",
              "if (outputEl) {{\n",
              "    x.observe(outputEl, {childList: true});\n",
              "}}\n",
              "\n",
              "                        })                };                            </script>        </div>\n",
              "</body>\n",
              "</html>"
            ]
          },
          "metadata": {}
        }
      ]
    },
    {
      "cell_type": "markdown",
      "source": [
        "## **Observations -**\n",
        "\n",
        "1) From the above histogram, we can say that the ratings are skewed towards right, majority of ratings with 4 and 5.Rating 4 with highest count and 5 as second highest count and almost same number as 4.\n",
        "\n",
        "2) There are few rating count for 3,2 and 1."
      ],
      "metadata": {
        "id": "D8hJ2-99W_J5"
      }
    },
    {
      "cell_type": "markdown",
      "source": [
        "## **Find unique customers and restaurants?**"
      ],
      "metadata": {
        "id": "mn55vCO5YL_j"
      }
    },
    {
      "cell_type": "code",
      "source": [
        "yelp_df['user_id'].nunique()"
      ],
      "metadata": {
        "colab": {
          "base_uri": "https://localhost:8080/"
        },
        "id": "uI0gMlWmYHKd",
        "outputId": "e6be80f2-c321-42e9-e37d-12371742ff15"
      },
      "execution_count": null,
      "outputs": [
        {
          "output_type": "execute_result",
          "data": {
            "text/plain": [
              "6403"
            ]
          },
          "metadata": {},
          "execution_count": 15
        }
      ]
    },
    {
      "cell_type": "code",
      "source": [
        "yelp_df['business_id'].nunique()"
      ],
      "metadata": {
        "id": "fdyz0Tx1YjI5",
        "outputId": "2457076f-2260-453b-dbfc-8e7a1d318aa7",
        "colab": {
          "base_uri": "https://localhost:8080/"
        }
      },
      "execution_count": null,
      "outputs": [
        {
          "output_type": "execute_result",
          "data": {
            "text/plain": [
              "4174"
            ]
          },
          "metadata": {},
          "execution_count": 16
        }
      ]
    }
  ]
}